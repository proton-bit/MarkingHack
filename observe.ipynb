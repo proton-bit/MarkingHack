{
 "cells": [
  {
   "cell_type": "code",
   "execution_count": 5,
   "metadata": {},
   "outputs": [],
   "source": [
    "import pandas as pd \n",
    "import numpy as np\n",
    "import seaborn as sns\n",
    "import matplotlib.pyplot as plt\n",
    "from config import *\n"
   ]
  },
  {
   "attachments": {},
   "cell_type": "markdown",
   "metadata": {},
   "source": []
  },
  {
   "attachments": {},
   "cell_type": "markdown",
   "metadata": {},
   "source": [
    "## Переведем в паркеты"
   ]
  },
  {
   "cell_type": "code",
   "execution_count": 1,
   "metadata": {},
   "outputs": [],
   "source": [
    "!python to_parquets.py"
   ]
  },
  {
   "attachments": {},
   "cell_type": "markdown",
   "metadata": {},
   "source": [
    "## Notes:\n",
    "\n",
    "1. операции записываются подневно!"
   ]
  },
  {
   "attachments": {},
   "cell_type": "markdown",
   "metadata": {},
   "source": [
    "## Данные о вводе товаров в оборот"
   ]
  },
  {
   "cell_type": "code",
   "execution_count": 11,
   "metadata": {},
   "outputs": [],
   "source": [
    "input_circulation_data = pd.read_csv(INPUT_CIRCULATION_FILENAME)"
   ]
  },
  {
   "cell_type": "code",
   "execution_count": 12,
   "metadata": {},
   "outputs": [
    {
     "data": {
      "text/html": [
       "<div>\n",
       "<style scoped>\n",
       "    .dataframe tbody tr th:only-of-type {\n",
       "        vertical-align: middle;\n",
       "    }\n",
       "\n",
       "    .dataframe tbody tr th {\n",
       "        vertical-align: top;\n",
       "    }\n",
       "\n",
       "    .dataframe thead th {\n",
       "        text-align: right;\n",
       "    }\n",
       "</style>\n",
       "<table border=\"1\" class=\"dataframe\">\n",
       "  <thead>\n",
       "    <tr style=\"text-align: right;\">\n",
       "      <th></th>\n",
       "      <th>dt</th>\n",
       "      <th>inn</th>\n",
       "      <th>gtin</th>\n",
       "      <th>prid</th>\n",
       "      <th>operation_type</th>\n",
       "      <th>cnt</th>\n",
       "    </tr>\n",
       "  </thead>\n",
       "  <tbody>\n",
       "    <tr>\n",
       "      <th>0</th>\n",
       "      <td>2021-11-22</td>\n",
       "      <td>F0C677A146366202906368AF9FCEC188</td>\n",
       "      <td>C238E7C33B56BA911F576777316EC9F2</td>\n",
       "      <td>F0C677A146366202906368AF9FCEC188</td>\n",
       "      <td>Импорт. Не ЕАЭС</td>\n",
       "      <td>6</td>\n",
       "    </tr>\n",
       "    <tr>\n",
       "      <th>1</th>\n",
       "      <td>2021-11-22</td>\n",
       "      <td>F0DC262C40FBA363CFCEF8005E4C6140</td>\n",
       "      <td>4D3423957ECDC40F70E37EB75A6A2D3E</td>\n",
       "      <td>F0DC262C40FBA363CFCEF8005E4C6140</td>\n",
       "      <td>Перемаркировка</td>\n",
       "      <td>10</td>\n",
       "    </tr>\n",
       "    <tr>\n",
       "      <th>2</th>\n",
       "      <td>2021-11-22</td>\n",
       "      <td>32D845A9CC2A5BFA9F77CAE0E9A905A5</td>\n",
       "      <td>F1931263F03E1D89A43A3633AAF9FB84</td>\n",
       "      <td>32D845A9CC2A5BFA9F77CAE0E9A905A5</td>\n",
       "      <td>Импорт. Не ЕАЭС</td>\n",
       "      <td>600</td>\n",
       "    </tr>\n",
       "    <tr>\n",
       "      <th>3</th>\n",
       "      <td>2021-11-22</td>\n",
       "      <td>CE816FDF82B121C67CAE9B79203B8BA1</td>\n",
       "      <td>0374D8CAC82E9F0D47C95FA13D68C7C6</td>\n",
       "      <td>CE816FDF82B121C67CAE9B79203B8BA1</td>\n",
       "      <td>Импорт. Не ЕАЭС</td>\n",
       "      <td>1860</td>\n",
       "    </tr>\n",
       "    <tr>\n",
       "      <th>4</th>\n",
       "      <td>2021-11-22</td>\n",
       "      <td>E34F3F6C9E49FE46C87D067306AAC29B</td>\n",
       "      <td>BBC31CA374A30B34CAFBFD027888A73D</td>\n",
       "      <td>E34F3F6C9E49FE46C87D067306AAC29B</td>\n",
       "      <td>РФ</td>\n",
       "      <td>1</td>\n",
       "    </tr>\n",
       "  </tbody>\n",
       "</table>\n",
       "</div>"
      ],
      "text/plain": [
       "           dt                               inn  \\\n",
       "0  2021-11-22  F0C677A146366202906368AF9FCEC188   \n",
       "1  2021-11-22  F0DC262C40FBA363CFCEF8005E4C6140   \n",
       "2  2021-11-22  32D845A9CC2A5BFA9F77CAE0E9A905A5   \n",
       "3  2021-11-22  CE816FDF82B121C67CAE9B79203B8BA1   \n",
       "4  2021-11-22  E34F3F6C9E49FE46C87D067306AAC29B   \n",
       "\n",
       "                               gtin                              prid  \\\n",
       "0  C238E7C33B56BA911F576777316EC9F2  F0C677A146366202906368AF9FCEC188   \n",
       "1  4D3423957ECDC40F70E37EB75A6A2D3E  F0DC262C40FBA363CFCEF8005E4C6140   \n",
       "2  F1931263F03E1D89A43A3633AAF9FB84  32D845A9CC2A5BFA9F77CAE0E9A905A5   \n",
       "3  0374D8CAC82E9F0D47C95FA13D68C7C6  CE816FDF82B121C67CAE9B79203B8BA1   \n",
       "4  BBC31CA374A30B34CAFBFD027888A73D  E34F3F6C9E49FE46C87D067306AAC29B   \n",
       "\n",
       "    operation_type   cnt  \n",
       "0  Импорт. Не ЕАЭС     6  \n",
       "1   Перемаркировка    10  \n",
       "2  Импорт. Не ЕАЭС   600  \n",
       "3  Импорт. Не ЕАЭС  1860  \n",
       "4               РФ     1  "
      ]
     },
     "execution_count": 12,
     "metadata": {},
     "output_type": "execute_result"
    }
   ],
   "source": [
    "input_circulation_data.head()"
   ]
  },
  {
   "cell_type": "code",
   "execution_count": 15,
   "metadata": {},
   "outputs": [
    {
     "data": {
      "image/png": "[encoded data removed]",
      "text/plain": [
       "<Figure size 640x480 with 1 Axes>"
      ]
     },
     "metadata": {},
     "output_type": "display_data"
    }
   ],
   "source": [
    "sns.boxplot(data=input_circulation_data, x=\"cnt\")\n",
    "plt.show()"
   ]
  },
  {
   "attachments": {},
   "cell_type": "markdown",
   "metadata": {},
   "source": [
    "операции записываются подневно в течение года!"
   ]
  },
  {
   "cell_type": "code",
   "execution_count": 23,
   "metadata": {},
   "outputs": [
    {
     "name": "stdout",
     "output_type": "stream",
     "text": [
      "number of days: 365\n",
      "first_day: 2021-11-22\n",
      "last_day: 2022-11-21\n"
     ]
    }
   ],
   "source": [
    "def date_info():\n",
    "    dates = sorted(input_circulation_data.dt.unique())\n",
    "    print(f\"number of days: {len(dates)}\", f\"first_day: {dates[0]}\", f\"last_day: {dates[-1]}\", sep='\\n')\n",
    "date_info()"
   ]
  },
  {
   "cell_type": "code",
   "execution_count": null,
   "metadata": {},
   "outputs": [],
   "source": [
    "sorted(input_circulation_data.dt.unique"
   ]
  },
  {
   "attachments": {},
   "cell_type": "markdown",
   "metadata": {},
   "source": [
    "## Данные о выводе товаров из оборота"
   ]
  },
  {
   "attachments": {},
   "cell_type": "markdown",
   "metadata": {},
   "source": [
    "### NOTES\n",
    "\n",
    "1. сегрегировать розничные сделки от оптовых \n",
    "2. перепад температур \n"
   ]
  },
  {
   "cell_type": "code",
   "execution_count": 5,
   "metadata": {},
   "outputs": [],
   "source": [
    "output_circulation_data = pd.read_parquet(OUTPUT_CIRCULATION_PARQUET_FILENAME)"
   ]
  },
  {
   "cell_type": "code",
   "execution_count": 10,
   "metadata": {},
   "outputs": [
    {
     "data": {
      "text/html": [
       "<div>\n",
       "<style scoped>\n",
       "    .dataframe tbody tr th:only-of-type {\n",
       "        vertical-align: middle;\n",
       "    }\n",
       "\n",
       "    .dataframe tbody tr th {\n",
       "        vertical-align: top;\n",
       "    }\n",
       "\n",
       "    .dataframe thead th {\n",
       "        text-align: right;\n",
       "    }\n",
       "</style>\n",
       "<table border=\"1\" class=\"dataframe\">\n",
       "  <thead>\n",
       "    <tr style=\"text-align: right;\">\n",
       "      <th></th>\n",
       "      <th>dt</th>\n",
       "      <th>gtin</th>\n",
       "      <th>prid</th>\n",
       "      <th>inn</th>\n",
       "      <th>id_sp_</th>\n",
       "      <th>type_operation</th>\n",
       "      <th>price</th>\n",
       "      <th>cnt</th>\n",
       "    </tr>\n",
       "  </thead>\n",
       "  <tbody>\n",
       "    <tr>\n",
       "      <th>0</th>\n",
       "      <td>2021-11-22</td>\n",
       "      <td>5A3E5F7B2D093D1D6CB3CF93BA9AC8A6</td>\n",
       "      <td>DC7432556B58D454B4E37F0F0D1E663D</td>\n",
       "      <td>B035ED5D308BC70E5EA9342B6DBF5810</td>\n",
       "      <td>19485F700068E6A9A8593AFDE9803638</td>\n",
       "      <td>Продажа конечному потребителю в точке продаж</td>\n",
       "      <td>3500</td>\n",
       "      <td>1</td>\n",
       "    </tr>\n",
       "    <tr>\n",
       "      <th>1</th>\n",
       "      <td>2021-11-22</td>\n",
       "      <td>9A2202A48FC5E462C44B78B0C79E1DBD</td>\n",
       "      <td>D18B1B470E57871FAB5B4E949E256BB4</td>\n",
       "      <td>DD486FED86564603D2CD7CF9EED2C458</td>\n",
       "      <td>C2969A4C8A40C12902EAD4936E303045</td>\n",
       "      <td>Продажа конечному потребителю в точке продаж</td>\n",
       "      <td>56714</td>\n",
       "      <td>1</td>\n",
       "    </tr>\n",
       "    <tr>\n",
       "      <th>2</th>\n",
       "      <td>2021-11-22</td>\n",
       "      <td>877ABE9DE14E0B510DFC8DE63EEFA817</td>\n",
       "      <td>62B5EAEF59E6693F44B1074C1140BF45</td>\n",
       "      <td>62B5EAEF59E6693F44B1074C1140BF45</td>\n",
       "      <td>5637334F301773E28AE8730713E6D5F7</td>\n",
       "      <td>Продажа конечному потребителю в точке продаж</td>\n",
       "      <td>74314</td>\n",
       "      <td>1</td>\n",
       "    </tr>\n",
       "    <tr>\n",
       "      <th>3</th>\n",
       "      <td>2021-11-22</td>\n",
       "      <td>B004F889F17F8AB365C494B3D0D06E1A</td>\n",
       "      <td>D7326D87A37D73AF19AF53668A7116D6</td>\n",
       "      <td>D7326D87A37D73AF19AF53668A7116D6</td>\n",
       "      <td>0FF56DEC16050D3B6372F2CB1BD6DFCB</td>\n",
       "      <td>Продажа конечному потребителю в точке продаж</td>\n",
       "      <td>4999</td>\n",
       "      <td>1</td>\n",
       "    </tr>\n",
       "    <tr>\n",
       "      <th>4</th>\n",
       "      <td>2021-11-22</td>\n",
       "      <td>E1C0503EA9201D56D7173CB4CA4A6AFA</td>\n",
       "      <td>50955BB0B97298EEAEB1F6CF9712F37A</td>\n",
       "      <td>39FFA592BE77CA7DE37C65C1B8423E8C</td>\n",
       "      <td>9E660AA1DE428BA88D1942DB2824BDAB</td>\n",
       "      <td>Продажа конечному потребителю в точке продаж</td>\n",
       "      <td>29857</td>\n",
       "      <td>1</td>\n",
       "    </tr>\n",
       "  </tbody>\n",
       "</table>\n",
       "</div>"
      ],
      "text/plain": [
       "          dt                              gtin  \\\n",
       "0 2021-11-22  5A3E5F7B2D093D1D6CB3CF93BA9AC8A6   \n",
       "1 2021-11-22  9A2202A48FC5E462C44B78B0C79E1DBD   \n",
       "2 2021-11-22  877ABE9DE14E0B510DFC8DE63EEFA817   \n",
       "3 2021-11-22  B004F889F17F8AB365C494B3D0D06E1A   \n",
       "4 2021-11-22  E1C0503EA9201D56D7173CB4CA4A6AFA   \n",
       "\n",
       "                               prid                               inn  \\\n",
       "0  DC7432556B58D454B4E37F0F0D1E663D  B035ED5D308BC70E5EA9342B6DBF5810   \n",
       "1  D18B1B470E57871FAB5B4E949E256BB4  DD486FED86564603D2CD7CF9EED2C458   \n",
       "2  62B5EAEF59E6693F44B1074C1140BF45  62B5EAEF59E6693F44B1074C1140BF45   \n",
       "3  D7326D87A37D73AF19AF53668A7116D6  D7326D87A37D73AF19AF53668A7116D6   \n",
       "4  50955BB0B97298EEAEB1F6CF9712F37A  39FFA592BE77CA7DE37C65C1B8423E8C   \n",
       "\n",
       "                             id_sp_  \\\n",
       "0  19485F700068E6A9A8593AFDE9803638   \n",
       "1  C2969A4C8A40C12902EAD4936E303045   \n",
       "2  5637334F301773E28AE8730713E6D5F7   \n",
       "3  0FF56DEC16050D3B6372F2CB1BD6DFCB   \n",
       "4  9E660AA1DE428BA88D1942DB2824BDAB   \n",
       "\n",
       "                                 type_operation  price  cnt  \n",
       "0  Продажа конечному потребителю в точке продаж   3500    1  \n",
       "1  Продажа конечному потребителю в точке продаж  56714    1  \n",
       "2  Продажа конечному потребителю в точке продаж  74314    1  \n",
       "3  Продажа конечному потребителю в точке продаж   4999    1  \n",
       "4  Продажа конечному потребителю в точке продаж  29857    1  "
      ]
     },
     "execution_count": 10,
     "metadata": {},
     "output_type": "execute_result"
    }
   ],
   "source": [
    "output_circulation_data.head()"
   ]
  },
  {
   "cell_type": "code",
   "execution_count": null,
   "metadata": {},
   "outputs": [],
   "source": [
    "sns.boxplot(data=output_circulation_data, x=\"cnt\")"
   ]
  },
  {
   "cell_type": "code",
   "execution_count": 9,
   "metadata": {},
   "outputs": [
    {
     "data": {
      "text/plain": [
       "145162"
      ]
     },
     "execution_count": 9,
     "metadata": {},
     "output_type": "execute_result"
    }
   ],
   "source": [
    "output_circulation_data.cnt.max()"
   ]
  },
  {
   "attachments": {},
   "cell_type": "markdown",
   "metadata": {},
   "source": [
    "## Данные о перемещениях товаров "
   ]
  },
  {
   "cell_type": "code",
   "execution_count": 2,
   "metadata": {},
   "outputs": [],
   "source": [
    "transition_circulation_data = pd.read_parquet(TRANSITION_CIRCULATION_PARQUET_FILENAME)"
   ]
  },
  {
   "cell_type": "code",
   "execution_count": 4,
   "metadata": {},
   "outputs": [
    {
     "data": {
      "text/html": [
       "<div>\n",
       "<style scoped>\n",
       "    .dataframe tbody tr th:only-of-type {\n",
       "        vertical-align: middle;\n",
       "    }\n",
       "\n",
       "    .dataframe tbody tr th {\n",
       "        vertical-align: top;\n",
       "    }\n",
       "\n",
       "    .dataframe thead th {\n",
       "        text-align: right;\n",
       "    }\n",
       "</style>\n",
       "<table border=\"1\" class=\"dataframe\">\n",
       "  <thead>\n",
       "    <tr style=\"text-align: right;\">\n",
       "      <th></th>\n",
       "      <th>dt</th>\n",
       "      <th>gtin</th>\n",
       "      <th>prid</th>\n",
       "      <th>sender_inn</th>\n",
       "      <th>receiver_inn</th>\n",
       "      <th>cnt_moved</th>\n",
       "    </tr>\n",
       "  </thead>\n",
       "  <tbody>\n",
       "    <tr>\n",
       "      <th>0</th>\n",
       "      <td>2021-11-22</td>\n",
       "      <td>867FDFE9E03925792F329DEDBAA3955F</td>\n",
       "      <td>9246A2BE043136FC4B4A166BB0E25D3E</td>\n",
       "      <td>2E55013259E009F4FC1E5EFCF170EA8B</td>\n",
       "      <td>8D5F8E7D20AD9A8D0E8EE5769321D8C3</td>\n",
       "      <td>1</td>\n",
       "    </tr>\n",
       "    <tr>\n",
       "      <th>1</th>\n",
       "      <td>2021-11-22</td>\n",
       "      <td>4FB53B945150E362C307D60297066562</td>\n",
       "      <td>9246A2BE043136FC4B4A166BB0E25D3E</td>\n",
       "      <td>32B53198A919C559CB84DC0487947E80</td>\n",
       "      <td>EDE6F6D21300D96A9E207EA4F59321EF</td>\n",
       "      <td>1</td>\n",
       "    </tr>\n",
       "    <tr>\n",
       "      <th>2</th>\n",
       "      <td>2021-11-22</td>\n",
       "      <td>38BA9B93C5C987770AD698646D2FAB66</td>\n",
       "      <td>2DADC5DF60A9FC194A3388C1612CC967</td>\n",
       "      <td>3A87113AC25EFD88BD3407ACECFA3869</td>\n",
       "      <td>D02A2294DDF3BCF7218D6FEFDB35A906</td>\n",
       "      <td>1</td>\n",
       "    </tr>\n",
       "    <tr>\n",
       "      <th>3</th>\n",
       "      <td>2021-11-22</td>\n",
       "      <td>FA77213DA058666C6781164754CBC0EB</td>\n",
       "      <td>FFC432B34974A68B2845FBED9A7DEB29</td>\n",
       "      <td>C5CDC4F467B7CDA0F3E082BFFEDA9938</td>\n",
       "      <td>051C7D77FE590C5428DB57FD48C5DB9C</td>\n",
       "      <td>3</td>\n",
       "    </tr>\n",
       "    <tr>\n",
       "      <th>4</th>\n",
       "      <td>2021-11-22</td>\n",
       "      <td>E5635C538FE51D88504CE5CFF8BC1D2C</td>\n",
       "      <td>6E536425E534ABA7AB9FEA2ACA91A775</td>\n",
       "      <td>AE7F5C67298A67CACD2A193C9405524F</td>\n",
       "      <td>0D28C0E0C8ADAA3D9B55B557C71D8A8E</td>\n",
       "      <td>2</td>\n",
       "    </tr>\n",
       "  </tbody>\n",
       "</table>\n",
       "</div>"
      ],
      "text/plain": [
       "           dt                              gtin  \\\n",
       "0  2021-11-22  867FDFE9E03925792F329DEDBAA3955F   \n",
       "1  2021-11-22  4FB53B945150E362C307D60297066562   \n",
       "2  2021-11-22  38BA9B93C5C987770AD698646D2FAB66   \n",
       "3  2021-11-22  FA77213DA058666C6781164754CBC0EB   \n",
       "4  2021-11-22  E5635C538FE51D88504CE5CFF8BC1D2C   \n",
       "\n",
       "                               prid                        sender_inn  \\\n",
       "0  9246A2BE043136FC4B4A166BB0E25D3E  2E55013259E009F4FC1E5EFCF170EA8B   \n",
       "1  9246A2BE043136FC4B4A166BB0E25D3E  32B53198A919C559CB84DC0487947E80   \n",
       "2  2DADC5DF60A9FC194A3388C1612CC967  3A87113AC25EFD88BD3407ACECFA3869   \n",
       "3  FFC432B34974A68B2845FBED9A7DEB29  C5CDC4F467B7CDA0F3E082BFFEDA9938   \n",
       "4  6E536425E534ABA7AB9FEA2ACA91A775  AE7F5C67298A67CACD2A193C9405524F   \n",
       "\n",
       "                       receiver_inn  cnt_moved  \n",
       "0  8D5F8E7D20AD9A8D0E8EE5769321D8C3          1  \n",
       "1  EDE6F6D21300D96A9E207EA4F59321EF          1  \n",
       "2  D02A2294DDF3BCF7218D6FEFDB35A906          1  \n",
       "3  051C7D77FE590C5428DB57FD48C5DB9C          3  \n",
       "4  0D28C0E0C8ADAA3D9B55B557C71D8A8E          2  "
      ]
     },
     "execution_count": 4,
     "metadata": {},
     "output_type": "execute_result"
    }
   ],
   "source": [
    "transition_circulation_data.head()"
   ]
  },
  {
   "cell_type": "code",
   "execution_count": 10,
   "metadata": {},
   "outputs": [
    {
     "data": {
      "text/plain": [
       "<AxesSubplot: xlabel='cnt_moved'>"
      ]
     },
     "execution_count": 10,
     "metadata": {},
     "output_type": "execute_result"
    },
    {
     "data": {
      "image/png": "[encoded data removed]",
      "text/plain": [
       "<Figure size 640x480 with 1 Axes>"
      ]
     },
     "metadata": {},
     "output_type": "display_data"
    }
   ],
   "source": [
    "sns.boxplot(data=transition_circulation_data, x=\"cnt_moved\")"
   ]
  },
  {
   "cell_type": "markdown",
   "metadata": {},
   "source": [
    "## Данные о перемещениях товаров "
   ]
  },
  {
   "cell_type": "code",
   "execution_count": 24,
   "metadata": {},
   "outputs": [],
   "source": [
    "outlets_handbook_data = pd.read_csv(OUTLETS_HANDBOOK_FILENAME)"
   ]
  },
  {
   "cell_type": "code",
   "execution_count": 26,
   "metadata": {},
   "outputs": [
    {
     "data": {
      "text/html": [
       "<div>\n",
       "<style scoped>\n",
       "    .dataframe tbody tr th:only-of-type {\n",
       "        vertical-align: middle;\n",
       "    }\n",
       "\n",
       "    .dataframe tbody tr th {\n",
       "        vertical-align: top;\n",
       "    }\n",
       "\n",
       "    .dataframe thead th {\n",
       "        text-align: right;\n",
       "    }\n",
       "</style>\n",
       "<table border=\"1\" class=\"dataframe\">\n",
       "  <thead>\n",
       "    <tr style=\"text-align: right;\">\n",
       "      <th></th>\n",
       "      <th>id_sp_</th>\n",
       "      <th>inn</th>\n",
       "      <th>region_code</th>\n",
       "      <th>city_with_type</th>\n",
       "      <th>city_fias_id</th>\n",
       "      <th>postal_code</th>\n",
       "    </tr>\n",
       "  </thead>\n",
       "  <tbody>\n",
       "    <tr>\n",
       "      <th>0</th>\n",
       "      <td>C72AC534DBF5E6369840FFE9DA9FF403</td>\n",
       "      <td>0056F9FCFA009E493BEFEAE4FAA71D82</td>\n",
       "      <td>51</td>\n",
       "      <td>NaN</td>\n",
       "      <td>NaN</td>\n",
       "      <td>184421.0</td>\n",
       "    </tr>\n",
       "    <tr>\n",
       "      <th>1</th>\n",
       "      <td>591942644AE25AE4DD26CF943BB97414</td>\n",
       "      <td>81AAC456284F455FC2B141E6E8F1A76C</td>\n",
       "      <td>66</td>\n",
       "      <td>г Екатеринбург</td>\n",
       "      <td>2763c110-cb8b-416a-9dac-ad28a55b4402</td>\n",
       "      <td>620027.0</td>\n",
       "    </tr>\n",
       "    <tr>\n",
       "      <th>2</th>\n",
       "      <td>A6E2261F16F84FF09E2B615EDB008943</td>\n",
       "      <td>87C2FDB73C26C96266A0947C2BB714BF</td>\n",
       "      <td>62</td>\n",
       "      <td>г Рязань</td>\n",
       "      <td>86e5bae4-ef58-4031-b34f-5e9ff914cd55</td>\n",
       "      <td>390026.0</td>\n",
       "    </tr>\n",
       "    <tr>\n",
       "      <th>3</th>\n",
       "      <td>DC3B647A089FA064DE61E0C778F5EE45</td>\n",
       "      <td>87C2FDB73C26C96266A0947C2BB714BF</td>\n",
       "      <td>62</td>\n",
       "      <td>г Рязань</td>\n",
       "      <td>86e5bae4-ef58-4031-b34f-5e9ff914cd55</td>\n",
       "      <td>390017.0</td>\n",
       "    </tr>\n",
       "    <tr>\n",
       "      <th>4</th>\n",
       "      <td>D2F125BAA947B6293CD055DA1DEEA87D</td>\n",
       "      <td>87C2FDB73C26C96266A0947C2BB714BF</td>\n",
       "      <td>62</td>\n",
       "      <td>г Рыбное</td>\n",
       "      <td>91d71d8c-2f1a-43c8-bc84-d78dc4245a1b</td>\n",
       "      <td>391112.0</td>\n",
       "    </tr>\n",
       "  </tbody>\n",
       "</table>\n",
       "</div>"
      ],
      "text/plain": [
       "                             id_sp_                               inn  \\\n",
       "0  C72AC534DBF5E6369840FFE9DA9FF403  0056F9FCFA009E493BEFEAE4FAA71D82   \n",
       "1  591942644AE25AE4DD26CF943BB97414  81AAC456284F455FC2B141E6E8F1A76C   \n",
       "2  A6E2261F16F84FF09E2B615EDB008943  87C2FDB73C26C96266A0947C2BB714BF   \n",
       "3  DC3B647A089FA064DE61E0C778F5EE45  87C2FDB73C26C96266A0947C2BB714BF   \n",
       "4  D2F125BAA947B6293CD055DA1DEEA87D  87C2FDB73C26C96266A0947C2BB714BF   \n",
       "\n",
       "   region_code  city_with_type                          city_fias_id  \\\n",
       "0           51             NaN                                   NaN   \n",
       "1           66  г Екатеринбург  2763c110-cb8b-416a-9dac-ad28a55b4402   \n",
       "2           62        г Рязань  86e5bae4-ef58-4031-b34f-5e9ff914cd55   \n",
       "3           62        г Рязань  86e5bae4-ef58-4031-b34f-5e9ff914cd55   \n",
       "4           62        г Рыбное  91d71d8c-2f1a-43c8-bc84-d78dc4245a1b   \n",
       "\n",
       "   postal_code  \n",
       "0     184421.0  \n",
       "1     620027.0  \n",
       "2     390026.0  \n",
       "3     390017.0  \n",
       "4     391112.0  "
      ]
     },
     "execution_count": 26,
     "metadata": {},
     "output_type": "execute_result"
    }
   ],
   "source": [
    "outlets_handbook_data.head()"
   ]
  },
  {
   "cell_type": "code",
   "execution_count": 28,
   "metadata": {},
   "outputs": [
    {
     "name": "stdout",
     "output_type": "stream",
     "text": [
      "18776/58401\n"
     ]
    }
   ],
   "source": [
    "print(f\"{outlets_handbook_data['city_with_type'].isna().sum()}/{len(outlets_handbook_data)}\")"
   ]
  },
  {
   "cell_type": "code",
   "execution_count": 30,
   "metadata": {},
   "outputs": [
    {
     "data": {
      "image/png": "[encoded data removed]",
      "text/plain": [
       "<Figure size 640x480 with 1 Axes>"
      ]
     },
     "metadata": {},
     "output_type": "display_data"
    }
   ],
   "source": [
    "def plot_nans(column:str):    \n",
    "    count_nans = outlets_handbook_data['city_with_type'].isna().sum()\n",
    "    data = [count_nans, len(outlets_handbook_data) - count_nans]\n",
    "    labels = ['nan', 'normal']\n",
    "\n",
    "    #define Seaborn color palette to use\n",
    "    colors = sns.color_palette('pastel')[0:5]\n",
    "\n",
    "    #create pie chart\n",
    "    plt.pie(data, labels = labels, colors = colors, autopct='%.0f%%')\n",
    "    plt.show()\n",
    "plot_nans()"
   ]
  },
  {
   "attachments": {},
   "cell_type": "markdown",
   "metadata": {},
   "source": [
    "## Справочник участников оборота товаров"
   ]
  }
 ],
 "metadata": {
  "kernelspec": {
   "display_name": "proton",
   "language": "python",
   "name": "python3"
  },
  "language_info": {
   "codemirror_mode": {
    "name": "ipython",
    "version": 3
   },
   "file_extension": ".py",
   "mimetype": "text/x-python",
   "name": "python",
   "nbconvert_exporter": "python",
   "pygments_lexer": "ipython3",
   "version": "3.10.9"
  },
  "orig_nbformat": 4
 },
 "nbformat": 4,
 "nbformat_minor": 2
}
